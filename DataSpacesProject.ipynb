{
 "cells": [
  {
   "cell_type": "code",
   "execution_count": 71,
   "metadata": {},
   "outputs": [],
   "source": [
    "# import all the libraries for the project\n",
    "import pandas as pd\n",
    "from sklearn.preprocessing import LabelEncoder, StandardScaler, OneHotEncoder\n",
    "from collections import defaultdict\n",
    "from scipy import interp\n",
    "import numpy as np\n",
    "import itertools\n",
    "%matplotlib inline\n",
    "import seaborn as sns\n",
    "import matplotlib as mpl\n",
    "import matplotlib.pyplot as plt\n",
    "from matplotlib import rcParams\n",
    "from sklearn.metrics import precision_score, recall_score, confusion_matrix, roc_curve\n",
    "from sklearn.metrics import accuracy_score, roc_auc_score, f1_score, auc\n",
    "from sklearn.preprocessing import StandardScaler, LabelEncoder\n",
    "from sklearn.model_selection import StratifiedKFold\n",
    "from sklearn.model_selection import train_test_split\n",
    "import plotly\n",
    "import plotly.plotly as py\n",
    "from plotly.plotly import plot, iplot\n",
    "import plotly.graph_objs as go\n",
    "import warnings\n",
    "from collections import Counter\n",
    "import math\n",
    "from scipy.cluster import hierarchy as hc\n",
    "import scipy.spatial as scs\n",
    "import scipy.stats as ss\n",
    "import plotly.figure_factory as ff\n",
    "\n",
    "plotly.tools.set_credentials_file(username='albertobenincasa', api_key='14CCI1wSA0JGaDZhuouL')\n",
    "warnings.filterwarnings(\"ignore\")"
   ]
  },
  {
   "cell_type": "code",
   "execution_count": 69,
   "metadata": {},
   "outputs": [],
   "source": [
    "# costanti\n",
    "PLOTLY_COLORS = ['#4A708B', '#87CEFA']\n",
    "PLOTLY_OPACITY = 0.7\n",
    "COLORSCALE_HEATMAP = [         [0.0, ''], #BFEFFF #B0E2FF #87CEFF \n",
    "                [0.1111111111111111, ''], \n",
    "                [0.2222222222222222, ''], \n",
    "                [0.3333333333333333, ''], \n",
    "                [0.4444444444444444, ''], \n",
    "                [0.5555555555555556, ''], \n",
    "                [0.6666666666666666, ''], \n",
    "                [0.7777777777777778, ''], \n",
    "                [0.8888888888888888, ''], \n",
    "                               [1.0, '']]\n",
    "COLOR_PALETTE = ['#140DFF', '#FF0DE2', '#CAFFD0', '#C9E4E7', '#B4A0E5', '#904C77']#= sns.color_palette(\"Blues\") "
   ]
  },
  {
   "cell_type": "markdown",
   "metadata": {},
   "source": [
    "### INTRODUZIONE\n",
    "\n",
    "Il dataset oggetto di questa analisi, visualizzabile e scaricabile all'indirizzo https://www.kaggle.com/ronitf/heart-disease-uci, consta di una serie di parametri di paziente affetti o no da disturbi di tipo cardiaco; esso deriva da un database contenente in origine 76 attributi, ma tutti le analisi effettuate si riferiscono ad un sottoinsieme di essi di 14 attributi.\n",
    "\n",
    "Scendendo più nel dettaglio, apprendiamo che questi 14 attributi specificano diverse caratteristice, di seguito elencate:\n",
    "* age : età del paziente in anni\n",
    "* sex : sesso del paziente (1=maschio, 0=femmina)\n",
    "* cp : tipologia di dolore addominale riscontrata (1=Angina pectoris tipica, 2=Angina pectoris atipica, 3=Dolore non dovuto ad Angina pectoris , 4=Asintomatico)\n",
    "* trestbps : pressione del sangue a riposo del paziente (in mmHg all'ammissione in ospedale)\n",
    "* chol : colesterolo del paziente misurato in mg/dl\n",
    "* fbs : glicemia a digiuno > 120 mg/dl (1=vero; 0=falso) \n",
    "* restecg : risutati elettrocardiografici a riposo (0=normale, 1=presenza di anormalità nell'onda ST-T, 2=probabile ipertrofia ventricolo sinistro)  \n",
    "* thalach : battito cardiaco massimo raggiunto\n",
    "* exang : angina pectoris indotta da esercizio (1=si, 0=no) \n",
    "* oldpeak : sottoslivellamento del tratto ST indotta dall'esercizio, non presente a riposo\n",
    "* slope : la pendenza durante il picco di esercizio del tratto ST\n",
    "* ca : numero di vasi maggiori (0-3) colorati per fluoroscopia\n",
    "* thal : malattia del sangue chiamata talassemia (3 = normale; 6 = difetto fisso; 7 = difetto reversibile)\n",
    "* target : presenza di malattia (1=si, 0=no)\n",
    "\n",
    "### CARICAMENTO DEL DATASET E ANALIZI PRELIMINARI\n",
    "\n",
    "Come prima cosa carichiamo il dataset in una variabile di tipo DataFrame."
   ]
  },
  {
   "cell_type": "code",
   "execution_count": 4,
   "metadata": {},
   "outputs": [],
   "source": [
    "# Carico il dataset presente in locale\n",
    "dataset = pd.read_csv(\"./dataset/heart.csv\")"
   ]
  },
  {
   "cell_type": "markdown",
   "metadata": {},
   "source": [
    "Il passo successivo consiste nel guardare il dataset appena caricato in modo da capirne il contenuto, le diverse feature disponibili e il tipo di dato presente in quest'ultime."
   ]
  },
  {
   "cell_type": "code",
   "execution_count": 11,
   "metadata": {},
   "outputs": [
    {
     "name": "stdout",
     "output_type": "stream",
     "text": [
      "Il dataset ha 303 record e 14 features.\n",
      "\n",
      "Ci sono 2 classi differenti:\n",
      " [1, 0]\n",
      "\n",
      "Valori unici per ogni campo: \n",
      "age          41\n",
      "sex           2\n",
      "cp            4\n",
      "trestbps     49\n",
      "chol        152\n",
      "fbs           2\n",
      "restecg       3\n",
      "thalach      91\n",
      "exang         2\n",
      "oldpeak      40\n",
      "slope         3\n",
      "ca            5\n",
      "thal          4\n",
      "target        2\n",
      "dtype: int64\n"
     ]
    }
   ],
   "source": [
    "# Dimensione del dataset\n",
    "print(\"Il dataset ha %d record e %d features.\\n\" % dataset.shape)\n",
    "\n",
    "# Conteggio del numero di classi per la classificazione\n",
    "print(f\"Ci sono {dataset['target'].unique().size} classi differenti:\"f\"\\n {dataset['target'].unique().tolist()}\")\n",
    "\n",
    "# Conteggio del numero di valori unici per ogni colonna\n",
    "print(f\"\\nValori unici per ogni campo: \\n{dataset.nunique()}\")"
   ]
  },
  {
   "cell_type": "markdown",
   "metadata": {},
   "source": [
    "### PREPROCESSING\n",
    "\n",
    "Prima di poter passare alla classificazione, è fondamentale una fase di preprocessing dei dati. \n",
    "Questo è lo step più importante di tutti, perchè \"pulire\" i dati prima di \"mandarli in pasto\" ai diversi algoritmi di classificazione ha un duplice vantaggio: per prima cosa, evitiamo di sovraccaricare la potenza di calcolo della macchina per conti non utili alla classificazione finale, e per seconda, analizzare i dati prima di processarli ci permette di ottenere la classificazione migliore possibile.\n",
    "\n",
    "Molto utile anche controllare la presenza di eventuali valori nulli: nel caso in cui ci fossero colonne non valorizzate, è bene procedere con l'eliminazione di quest'ultime per ridurre il numero di dati su cui dobbiamo lavorare.\n",
    "\n",
    "Come possiamo notare, non vi è traccia della presenza di valori nulli nel dataset. \n",
    "La strategia alternativa all'eliminazione di intere colonne, particolarmente vantaggiosa solo se tutti i valori (o perlomeno, la maggior parte) sono non definiti è quella di inserire valori di default (come 0) per i record che non hanno valori definiti."
   ]
  },
  {
   "cell_type": "code",
   "execution_count": 5,
   "metadata": {},
   "outputs": [
    {
     "name": "stdout",
     "output_type": "stream",
     "text": [
      "\n",
      "Conteggio dei valori NaN: \n",
      "age         0\n",
      "sex         0\n",
      "cp          0\n",
      "trestbps    0\n",
      "chol        0\n",
      "fbs         0\n",
      "restecg     0\n",
      "thalach     0\n",
      "exang       0\n",
      "oldpeak     0\n",
      "slope       0\n",
      "ca          0\n",
      "thal        0\n",
      "target      0\n",
      "dtype: int64\n"
     ]
    }
   ],
   "source": [
    "# Controllo la presenza di valori nulli\n",
    "print(f\"\\nConteggio dei valori NaN: \\n{dataset.isnull().sum()}\")"
   ]
  },
  {
   "cell_type": "markdown",
   "metadata": {},
   "source": [
    "La prima, semplice, analisi da fare è quella di vedere che tipo di dati abbiamo."
   ]
  },
  {
   "cell_type": "code",
   "execution_count": 4,
   "metadata": {},
   "outputs": [
    {
     "data": {
      "text/html": [
       "<div>\n",
       "<style scoped>\n",
       "    .dataframe tbody tr th:only-of-type {\n",
       "        vertical-align: middle;\n",
       "    }\n",
       "\n",
       "    .dataframe tbody tr th {\n",
       "        vertical-align: top;\n",
       "    }\n",
       "\n",
       "    .dataframe thead th {\n",
       "        text-align: right;\n",
       "    }\n",
       "</style>\n",
       "<table border=\"1\" class=\"dataframe\">\n",
       "  <thead>\n",
       "    <tr style=\"text-align: right;\">\n",
       "      <th></th>\n",
       "      <th>age</th>\n",
       "      <th>sex</th>\n",
       "      <th>cp</th>\n",
       "      <th>trestbps</th>\n",
       "      <th>chol</th>\n",
       "      <th>fbs</th>\n",
       "      <th>restecg</th>\n",
       "      <th>thalach</th>\n",
       "      <th>exang</th>\n",
       "      <th>oldpeak</th>\n",
       "      <th>slope</th>\n",
       "      <th>ca</th>\n",
       "      <th>thal</th>\n",
       "      <th>target</th>\n",
       "    </tr>\n",
       "  </thead>\n",
       "  <tbody>\n",
       "    <tr>\n",
       "      <th>0</th>\n",
       "      <td>63</td>\n",
       "      <td>1</td>\n",
       "      <td>3</td>\n",
       "      <td>145</td>\n",
       "      <td>233</td>\n",
       "      <td>1</td>\n",
       "      <td>0</td>\n",
       "      <td>150</td>\n",
       "      <td>0</td>\n",
       "      <td>2.3</td>\n",
       "      <td>0</td>\n",
       "      <td>0</td>\n",
       "      <td>1</td>\n",
       "      <td>1</td>\n",
       "    </tr>\n",
       "    <tr>\n",
       "      <th>1</th>\n",
       "      <td>37</td>\n",
       "      <td>1</td>\n",
       "      <td>2</td>\n",
       "      <td>130</td>\n",
       "      <td>250</td>\n",
       "      <td>0</td>\n",
       "      <td>1</td>\n",
       "      <td>187</td>\n",
       "      <td>0</td>\n",
       "      <td>3.5</td>\n",
       "      <td>0</td>\n",
       "      <td>0</td>\n",
       "      <td>2</td>\n",
       "      <td>1</td>\n",
       "    </tr>\n",
       "    <tr>\n",
       "      <th>2</th>\n",
       "      <td>41</td>\n",
       "      <td>0</td>\n",
       "      <td>1</td>\n",
       "      <td>130</td>\n",
       "      <td>204</td>\n",
       "      <td>0</td>\n",
       "      <td>0</td>\n",
       "      <td>172</td>\n",
       "      <td>0</td>\n",
       "      <td>1.4</td>\n",
       "      <td>2</td>\n",
       "      <td>0</td>\n",
       "      <td>2</td>\n",
       "      <td>1</td>\n",
       "    </tr>\n",
       "    <tr>\n",
       "      <th>3</th>\n",
       "      <td>56</td>\n",
       "      <td>1</td>\n",
       "      <td>1</td>\n",
       "      <td>120</td>\n",
       "      <td>236</td>\n",
       "      <td>0</td>\n",
       "      <td>1</td>\n",
       "      <td>178</td>\n",
       "      <td>0</td>\n",
       "      <td>0.8</td>\n",
       "      <td>2</td>\n",
       "      <td>0</td>\n",
       "      <td>2</td>\n",
       "      <td>1</td>\n",
       "    </tr>\n",
       "    <tr>\n",
       "      <th>4</th>\n",
       "      <td>57</td>\n",
       "      <td>0</td>\n",
       "      <td>0</td>\n",
       "      <td>120</td>\n",
       "      <td>354</td>\n",
       "      <td>0</td>\n",
       "      <td>1</td>\n",
       "      <td>163</td>\n",
       "      <td>1</td>\n",
       "      <td>0.6</td>\n",
       "      <td>2</td>\n",
       "      <td>0</td>\n",
       "      <td>2</td>\n",
       "      <td>1</td>\n",
       "    </tr>\n",
       "  </tbody>\n",
       "</table>\n",
       "</div>"
      ],
      "text/plain": [
       "   age  sex  cp  trestbps  chol  fbs  restecg  thalach  exang  oldpeak  slope  \\\n",
       "0   63    1   3       145   233    1        0      150      0      2.3      0   \n",
       "1   37    1   2       130   250    0        1      187      0      3.5      0   \n",
       "2   41    0   1       130   204    0        0      172      0      1.4      2   \n",
       "3   56    1   1       120   236    0        1      178      0      0.8      2   \n",
       "4   57    0   0       120   354    0        1      163      1      0.6      2   \n",
       "\n",
       "   ca  thal  target  \n",
       "0   0     1       1  \n",
       "1   0     2       1  \n",
       "2   0     2       1  \n",
       "3   0     2       1  \n",
       "4   0     2       1  "
      ]
     },
     "execution_count": 4,
     "metadata": {},
     "output_type": "execute_result"
    }
   ],
   "source": [
    "dataset.head()"
   ]
  },
  {
   "cell_type": "markdown",
   "metadata": {},
   "source": [
    "Come possiamo notare, tutti i nostri attributi sono di tipo numerico. Nonostante questo, dalla descrizione del dataset sappiamo che alcuni di questi valori corrispondono in realtà ad elementi di tipo categorico. \n",
    "\n",
    "Infatti, i campi valorizzati con delle stringhe non permettono un'analisi semplice, \n",
    "bla\n",
    "bla\n",
    "bla\n",
    "\n",
    "Vediamo ora come i nostri campioni sono suddivisi nelle diverse classi"
   ]
  },
  {
   "cell_type": "code",
   "execution_count": 6,
   "metadata": {},
   "outputs": [
    {
     "name": "stdout",
     "output_type": "stream",
     "text": [
      "1    165\n",
      "0    138\n",
      "Name: target, dtype: int64\n"
     ]
    }
   ],
   "source": [
    "y = dataset['target'].value_counts()\n",
    "print(y)"
   ]
  },
  {
   "cell_type": "markdown",
   "metadata": {},
   "source": [
    "Fortunatamente, il dataset è abbastanza bilanciato: abbiamo circa lo stesso numero di campioni classificati come malati e non malati. Questo è molto importante perchè possiamo assegnare lo stesso peso alle due classi quando passeremo alla fase di classificazione.\n",
    "\n",
    "Inoltre, possiamo notare come il nostro compito di classificazione sarà di tipo binario: infatti, il nostro obiettivo è riuscire a predire se un paziente potrebbe riscontrare malattie cardiache oppure no. Possiamo ora approfondire alcuni dettagli statistici sul dataset utilizzando il metodo **describe()** sul nostro DataFrame di pandas. L'output mostrerà:\n",
    "* **count** -> specifica il numero dei record presenti nel dataset \n",
    "* **mean** -> specifica la media dell'attributo calcolata per tutti i record\n",
    "* **std** -> specifica la deviazione standard dell'attributo\n",
    "* **min** -> specifica il valore minimo dell'attributo\n",
    "* **25%** -> il 25% dei record ha un valore minore di quello visualizzato (lower percentile)\n",
    "* **50%** -> il 50% dei record ha un valore minore di quello visualizzato (median percentile)\n",
    "* **75%** -> il 75% dei record ha un valore minore di quello visualizzato (upper percentile)\n",
    "* **max** -> specifica il valore massimo dell'attributo"
   ]
  },
  {
   "cell_type": "code",
   "execution_count": 7,
   "metadata": {},
   "outputs": [
    {
     "data": {
      "text/html": [
       "<div>\n",
       "<style scoped>\n",
       "    .dataframe tbody tr th:only-of-type {\n",
       "        vertical-align: middle;\n",
       "    }\n",
       "\n",
       "    .dataframe tbody tr th {\n",
       "        vertical-align: top;\n",
       "    }\n",
       "\n",
       "    .dataframe thead th {\n",
       "        text-align: right;\n",
       "    }\n",
       "</style>\n",
       "<table border=\"1\" class=\"dataframe\">\n",
       "  <thead>\n",
       "    <tr style=\"text-align: right;\">\n",
       "      <th></th>\n",
       "      <th>age</th>\n",
       "      <th>sex</th>\n",
       "      <th>cp</th>\n",
       "      <th>trestbps</th>\n",
       "      <th>chol</th>\n",
       "      <th>fbs</th>\n",
       "      <th>restecg</th>\n",
       "      <th>thalach</th>\n",
       "      <th>exang</th>\n",
       "      <th>oldpeak</th>\n",
       "      <th>slope</th>\n",
       "      <th>ca</th>\n",
       "      <th>thal</th>\n",
       "      <th>target</th>\n",
       "    </tr>\n",
       "  </thead>\n",
       "  <tbody>\n",
       "    <tr>\n",
       "      <th>count</th>\n",
       "      <td>303.000000</td>\n",
       "      <td>303.000000</td>\n",
       "      <td>303.000000</td>\n",
       "      <td>303.000000</td>\n",
       "      <td>303.000000</td>\n",
       "      <td>303.000000</td>\n",
       "      <td>303.000000</td>\n",
       "      <td>303.000000</td>\n",
       "      <td>303.000000</td>\n",
       "      <td>303.000000</td>\n",
       "      <td>303.000000</td>\n",
       "      <td>303.000000</td>\n",
       "      <td>303.000000</td>\n",
       "      <td>303.000000</td>\n",
       "    </tr>\n",
       "    <tr>\n",
       "      <th>mean</th>\n",
       "      <td>54.366337</td>\n",
       "      <td>0.683168</td>\n",
       "      <td>0.966997</td>\n",
       "      <td>131.623762</td>\n",
       "      <td>246.264026</td>\n",
       "      <td>0.148515</td>\n",
       "      <td>0.528053</td>\n",
       "      <td>149.646865</td>\n",
       "      <td>0.326733</td>\n",
       "      <td>1.039604</td>\n",
       "      <td>1.399340</td>\n",
       "      <td>0.729373</td>\n",
       "      <td>2.313531</td>\n",
       "      <td>0.544554</td>\n",
       "    </tr>\n",
       "    <tr>\n",
       "      <th>std</th>\n",
       "      <td>9.082101</td>\n",
       "      <td>0.466011</td>\n",
       "      <td>1.032052</td>\n",
       "      <td>17.538143</td>\n",
       "      <td>51.830751</td>\n",
       "      <td>0.356198</td>\n",
       "      <td>0.525860</td>\n",
       "      <td>22.905161</td>\n",
       "      <td>0.469794</td>\n",
       "      <td>1.161075</td>\n",
       "      <td>0.616226</td>\n",
       "      <td>1.022606</td>\n",
       "      <td>0.612277</td>\n",
       "      <td>0.498835</td>\n",
       "    </tr>\n",
       "    <tr>\n",
       "      <th>min</th>\n",
       "      <td>29.000000</td>\n",
       "      <td>0.000000</td>\n",
       "      <td>0.000000</td>\n",
       "      <td>94.000000</td>\n",
       "      <td>126.000000</td>\n",
       "      <td>0.000000</td>\n",
       "      <td>0.000000</td>\n",
       "      <td>71.000000</td>\n",
       "      <td>0.000000</td>\n",
       "      <td>0.000000</td>\n",
       "      <td>0.000000</td>\n",
       "      <td>0.000000</td>\n",
       "      <td>0.000000</td>\n",
       "      <td>0.000000</td>\n",
       "    </tr>\n",
       "    <tr>\n",
       "      <th>25%</th>\n",
       "      <td>47.500000</td>\n",
       "      <td>0.000000</td>\n",
       "      <td>0.000000</td>\n",
       "      <td>120.000000</td>\n",
       "      <td>211.000000</td>\n",
       "      <td>0.000000</td>\n",
       "      <td>0.000000</td>\n",
       "      <td>133.500000</td>\n",
       "      <td>0.000000</td>\n",
       "      <td>0.000000</td>\n",
       "      <td>1.000000</td>\n",
       "      <td>0.000000</td>\n",
       "      <td>2.000000</td>\n",
       "      <td>0.000000</td>\n",
       "    </tr>\n",
       "    <tr>\n",
       "      <th>50%</th>\n",
       "      <td>55.000000</td>\n",
       "      <td>1.000000</td>\n",
       "      <td>1.000000</td>\n",
       "      <td>130.000000</td>\n",
       "      <td>240.000000</td>\n",
       "      <td>0.000000</td>\n",
       "      <td>1.000000</td>\n",
       "      <td>153.000000</td>\n",
       "      <td>0.000000</td>\n",
       "      <td>0.800000</td>\n",
       "      <td>1.000000</td>\n",
       "      <td>0.000000</td>\n",
       "      <td>2.000000</td>\n",
       "      <td>1.000000</td>\n",
       "    </tr>\n",
       "    <tr>\n",
       "      <th>75%</th>\n",
       "      <td>61.000000</td>\n",
       "      <td>1.000000</td>\n",
       "      <td>2.000000</td>\n",
       "      <td>140.000000</td>\n",
       "      <td>274.500000</td>\n",
       "      <td>0.000000</td>\n",
       "      <td>1.000000</td>\n",
       "      <td>166.000000</td>\n",
       "      <td>1.000000</td>\n",
       "      <td>1.600000</td>\n",
       "      <td>2.000000</td>\n",
       "      <td>1.000000</td>\n",
       "      <td>3.000000</td>\n",
       "      <td>1.000000</td>\n",
       "    </tr>\n",
       "    <tr>\n",
       "      <th>max</th>\n",
       "      <td>77.000000</td>\n",
       "      <td>1.000000</td>\n",
       "      <td>3.000000</td>\n",
       "      <td>200.000000</td>\n",
       "      <td>564.000000</td>\n",
       "      <td>1.000000</td>\n",
       "      <td>2.000000</td>\n",
       "      <td>202.000000</td>\n",
       "      <td>1.000000</td>\n",
       "      <td>6.200000</td>\n",
       "      <td>2.000000</td>\n",
       "      <td>4.000000</td>\n",
       "      <td>3.000000</td>\n",
       "      <td>1.000000</td>\n",
       "    </tr>\n",
       "  </tbody>\n",
       "</table>\n",
       "</div>"
      ],
      "text/plain": [
       "              age         sex          cp    trestbps        chol         fbs  \\\n",
       "count  303.000000  303.000000  303.000000  303.000000  303.000000  303.000000   \n",
       "mean    54.366337    0.683168    0.966997  131.623762  246.264026    0.148515   \n",
       "std      9.082101    0.466011    1.032052   17.538143   51.830751    0.356198   \n",
       "min     29.000000    0.000000    0.000000   94.000000  126.000000    0.000000   \n",
       "25%     47.500000    0.000000    0.000000  120.000000  211.000000    0.000000   \n",
       "50%     55.000000    1.000000    1.000000  130.000000  240.000000    0.000000   \n",
       "75%     61.000000    1.000000    2.000000  140.000000  274.500000    0.000000   \n",
       "max     77.000000    1.000000    3.000000  200.000000  564.000000    1.000000   \n",
       "\n",
       "          restecg     thalach       exang     oldpeak       slope          ca  \\\n",
       "count  303.000000  303.000000  303.000000  303.000000  303.000000  303.000000   \n",
       "mean     0.528053  149.646865    0.326733    1.039604    1.399340    0.729373   \n",
       "std      0.525860   22.905161    0.469794    1.161075    0.616226    1.022606   \n",
       "min      0.000000   71.000000    0.000000    0.000000    0.000000    0.000000   \n",
       "25%      0.000000  133.500000    0.000000    0.000000    1.000000    0.000000   \n",
       "50%      1.000000  153.000000    0.000000    0.800000    1.000000    0.000000   \n",
       "75%      1.000000  166.000000    1.000000    1.600000    2.000000    1.000000   \n",
       "max      2.000000  202.000000    1.000000    6.200000    2.000000    4.000000   \n",
       "\n",
       "             thal      target  \n",
       "count  303.000000  303.000000  \n",
       "mean     2.313531    0.544554  \n",
       "std      0.612277    0.498835  \n",
       "min      0.000000    0.000000  \n",
       "25%      2.000000    0.000000  \n",
       "50%      2.000000    1.000000  \n",
       "75%      3.000000    1.000000  \n",
       "max      3.000000    1.000000  "
      ]
     },
     "execution_count": 7,
     "metadata": {},
     "output_type": "execute_result"
    }
   ],
   "source": [
    "dataset.describe()"
   ]
  },
  {
   "cell_type": "code",
   "execution_count": 25,
   "metadata": {},
   "outputs": [
    {
     "name": "stdout",
     "output_type": "stream",
     "text": [
      "High five! You successfully sent some data to your account on plotly. View your plot in your browser at https://plot.ly/~albertobenincasa/0 or inside your plot.ly account where it is named 'Distribuzione classi'\n"
     ]
    },
    {
     "data": {
      "text/html": [
       "<iframe id=\"igraph\" scrolling=\"no\" style=\"border:none;\" seamless=\"seamless\" src=\"https://plot.ly/~albertobenincasa/0.embed\" height=\"525px\" width=\"100%\"></iframe>"
      ],
      "text/plain": [
       "<plotly.tools.PlotlyDisplay object>"
      ]
     },
     "execution_count": 25,
     "metadata": {},
     "output_type": "execute_result"
    }
   ],
   "source": [
    "def create_bar(type, data, col, visible=False):\n",
    "    if type == \"sick\":\n",
    "        c = PLOTLY_COLORS[0]\n",
    "    else:\n",
    "        c = PLOTLY_COLORS[1]\n",
    "    \n",
    "    return go.Histogram(\n",
    "        x = data[col],\n",
    "        name = type,\n",
    "        marker = dict(color = c),\n",
    "        visible = visible,\n",
    "        opacity = PLOTLY_OPACITY,\n",
    "    )\n",
    "\n",
    "def feature_histogram(data, feature, title):\n",
    "    \n",
    "    trace1 = create_bar(\"sick\", data[data['target'] == 1], feature, True)\n",
    "    trace2 = create_bar(\"healthy\", data[data['target'] == 0], feature, True)\n",
    "    \n",
    "    data = [trace1, trace2]\n",
    "    \n",
    "    layout = dict(\n",
    "        title=title,\n",
    "        autosize=True,\n",
    "        yaxis=dict(\n",
    "            title='value',\n",
    "            automargin=True,\n",
    "        ),\n",
    "        legend=dict(\n",
    "            x=0,\n",
    "            y=1,\n",
    "        ),\n",
    "        barmode='group',\n",
    "        bargap=0.15,\n",
    "        bargroupgap=0.1\n",
    "    )\n",
    "    fig = dict(data=data, layout=layout)\n",
    "\n",
    "    return py.iplot(fig, filename=title)\n",
    "\n",
    "feature_histogram(dataset, 'target', 'Distribuzione classi')"
   ]
  },
  {
   "cell_type": "markdown",
   "metadata": {},
   "source": [
    "A questo punto possiamo analizzare la distribuzione dei nostri dati usando dei boxplot: un boxplot è un modo standardizzato per visualizzare la distribuzione dei dati sulla base di un riepilogo di cinque numeri (min, lower percentile, median, upper percentile, max); risulta molto utile per visualizzare dati anomali e per controllare se i dati sono ditribuiti in modo simmetrico, quanto sono aggregati.\n",
    "\n",
    "Le informazioni che possiamo ricavare da un box plot sono:\n",
    "* **median**(Q2 / 50esimo percentile): il valore medio del dataset\n",
    "* **first quartile**(Q1 / 25esimo percentile): il valore medio tra il valore più piccolo (non il minimo) e il median del dataset\n",
    "* **third quartile**(Q3 / 75esimo percentile): il valore medio tra il valore più grande (non il massimo) e il median del dataset\n",
    "* **interquartile range**(IQR): dal 25esimo al 75esimo percentile\n",
    "* **outliers**: elementi visualizzati come singoli punti\n",
    "* **maximum**: Q3 + 1.5xIQR\n",
    "* **minimum**: Q1 - 1.5xIQR\n",
    "\n",
    "Chiaramente, ha poco senso visualizzare in questo tipo di grafici quegli attributi che sono binari o che presentano poche opzioni, per cui filtreremo questi dati prima di visualizzare i grafici."
   ]
  },
  {
   "cell_type": "code",
   "execution_count": 23,
   "metadata": {
    "scrolled": false
   },
   "outputs": [
    {
     "data": {
      "text/html": [
       "<iframe id=\"igraph\" scrolling=\"no\" style=\"border:none;\" seamless=\"seamless\" src=\"https://plot.ly/~albertobenincasa/2.embed\" height=\"525px\" width=\"100%\"></iframe>"
      ],
      "text/plain": [
       "<plotly.tools.PlotlyDisplay object>"
      ]
     },
     "execution_count": 23,
     "metadata": {},
     "output_type": "execute_result"
    }
   ],
   "source": [
    "def create_box(type, data, col, visible=False):\n",
    "    if type == 'sick':\n",
    "        c = PLOTLY_COLORS[0]\n",
    "    else:\n",
    "        c = PLOTLY_COLORS[1]\n",
    "        \n",
    "    return go.Box(\n",
    "        y = data[col],\n",
    "        name = type,\n",
    "        marker = dict(color = c),\n",
    "        visible = visible,\n",
    "        opacity = PLOTLY_OPACITY,\n",
    "    )\n",
    "\n",
    "sicks = dataset[dataset['target'] == 1]\n",
    "healthy = dataset[dataset['target'] == 0]\n",
    "box_features = [col for col in dataset.columns if ((col != 'class') and (dataset[col].nunique() > 5))]\n",
    "\n",
    "active_index = 0\n",
    "\n",
    "box_sick = [(create_box('sick', sicks, col, False) if i != active_index\n",
    "           else create_box('sick', sicks, col, True))\n",
    "             for i, col in enumerate(box_features)\n",
    "            ]\n",
    "box_healthy = [(create_box('healthy', healthy, col, False) if i != active_index\n",
    "            else create_box('healthy', healthy, col, True))\n",
    "             for i, col in enumerate(box_features)\n",
    "            ]\n",
    "\n",
    "#box_sick = []\n",
    "#box_healthy = []\n",
    "#for i, col in enumerate(box_features):\n",
    "#    if i != active_index:\n",
    "#        trace1 = create_box('sick', sicks, col, False)\n",
    "#        trace2 = create_box('healthy', healthy, col, False)\n",
    "#    else:\n",
    "#        trace1 = create_box('sick', sicks, col, True)\n",
    "#        trace2 = create_box('healthy', healthy, col, True)\n",
    "#    \n",
    "#    box_sick.append(trace1)\n",
    "#    box_healthy.append(trace2)\n",
    "\n",
    "data = box_sick + box_healthy\n",
    "number_of_features = len(box_features)\n",
    "steps = []\n",
    "\n",
    "for i in range(number_of_features):\n",
    "    step = dict(\n",
    "        method = 'restyle',  \n",
    "        args = ['visible', [False] * number_of_features],\n",
    "        label = box_features[i],\n",
    "    )\n",
    "    step['args'][1][i] = True # Toggle i'th trace to \"visible\"\n",
    "    #step['args'][1][i + number_of_features] = True # Toggle i'th trace to \"visible\"\n",
    "    steps.append(step)\n",
    "    \n",
    "sliders = [dict(\n",
    "    active = active_index,\n",
    "    currentvalue = dict(\n",
    "        prefix = \"Feature: \", \n",
    "        xanchor= 'center',\n",
    "    ),\n",
    "    pad = {\"t\": 50},\n",
    "    steps = steps,\n",
    "    len=1,\n",
    ")]\n",
    "\n",
    "layout = dict(\n",
    "    sliders=sliders,\n",
    "    autosize=True,\n",
    "    yaxis=dict(\n",
    "        title='valori',\n",
    "        automargin=True,\n",
    "    ),\n",
    "    legend=dict(\n",
    "        x=0,\n",
    "        y=1,\n",
    "    ),\n",
    ")\n",
    "\n",
    "fig = dict(data=data, layout=layout)\n",
    "py.iplot(fig, filename='box_slider')"
   ]
  },
  {
   "cell_type": "markdown",
   "metadata": {},
   "source": [
    "commenti sul grafico sopra\n",
    "\n",
    "introduzione agli istrogrammi di sotto"
   ]
  },
  {
   "cell_type": "code",
   "execution_count": 28,
   "metadata": {},
   "outputs": [
    {
     "data": {
      "text/html": [
       "<iframe id=\"igraph\" scrolling=\"no\" style=\"border:none;\" seamless=\"seamless\" src=\"https://plot.ly/~albertobenincasa/4.embed\" height=\"525px\" width=\"100%\"></iframe>"
      ],
      "text/plain": [
       "<plotly.tools.PlotlyDisplay object>"
      ]
     },
     "execution_count": 28,
     "metadata": {},
     "output_type": "execute_result"
    }
   ],
   "source": [
    "hist_features = [col for col in dataset.columns if (col != 'target')]\n",
    "\n",
    "active_index = 0\n",
    "hist_sick = [(create_bar('sick', sicks, col, False) if i != active_index\n",
    "           else create_bar('sick', sicks, col, True))\n",
    "             for i, col in enumerate(hist_features)\n",
    "            ]\n",
    "hist_healthy = [(create_bar('healthy', healthy, col, False) if i != active_index\n",
    "           else create_bar('healthy', healthy, col, True))\n",
    "             for i, col in enumerate(hist_features)\n",
    "            ]\n",
    "\n",
    "total_data = hist_sick + hist_healthy\n",
    "number_of_features = len(hist_features)\n",
    "steps = []\n",
    "\n",
    "for i in range(number_of_features):\n",
    "    step = dict(\n",
    "        method = 'restyle',\n",
    "        args = ['visible', [False] * number_of_features],\n",
    "        label = hist_features[i],\n",
    "    )\n",
    "    step['args'][1][i] = True\n",
    "    steps.append(step)\n",
    "    \n",
    "sliders = [dict(\n",
    "    active = active_index,\n",
    "    currentvalue = dict(\n",
    "        prefix = \"Feature: \", \n",
    "        xanchor= 'center',\n",
    "    ),\n",
    "    pad = {\"t\": 50},\n",
    "    steps = steps,\n",
    "    len=1,\n",
    ")]\n",
    "\n",
    "layout = dict(\n",
    "    sliders=sliders,\n",
    "    autosize=True,\n",
    "    yaxis=dict(\n",
    "        title='valori',\n",
    "        automargin=True,\n",
    "    ),\n",
    "    legend=dict(\n",
    "        x=0,\n",
    "        y=1,\n",
    "    ),\n",
    ")\n",
    "\n",
    "fig = dict(data=total_data, layout=layout)\n",
    "py.iplot(fig, filename='bar_slider')"
   ]
  },
  {
   "cell_type": "markdown",
   "metadata": {},
   "source": [
    "commenti sui grafici sopra\n",
    "\n",
    "Una matrice di correlazione è una tabella che mostra i coefficienti di correlazione tra insiemi di variabili. \n",
    "Ogni variabile casuale ($X_i$) nella tabella è correlata con ciascuno degli altri valori nella tabella ($X_j$); questo permette di vedere quali coppie hanno la più alta correlazione.\n",
    "La correlazione si riferisce a qualsiasi associazione statistica, ma nell'uso comune del termine si indica quanto due variabili siano vicine ad avere una relazione lineare l'una con l'altra.\n",
    "\n",
    "In questo frangente useremo la correlazione di Pearson, che è una misura della correlazione lineare tra due variabili $X$ e $Y$. Secondo la diseguaglianza di Cauchy-Schwartz, tale valore è compreso tra +1 e -1, dove +1 è la correlazione positiva totale, 0 è nessuna correlazione lineare e -1 è una correlazione negativa totale.\n",
    "\n",
    "Questo coefficiente è calcolato come $ \\frac{cov(X, Y)}{\\sigma_X\\sigma_Y} $ dove:\n",
    "* $cov$ si chiama covarianza ed è calcolata come ($\\mu$ è il valore medio)  $$ cov(X, Y) = E[(X - \\mu_X)(Y - \\mu_Y)] $$\n",
    "* $\\sigma_X$ è la deviazione standard di $X$ $$ \\sigma_X = \\sqrt{E[X^2] - (E[X])^2} $$\n",
    "* $\\sigma_Y$ è la deviazione standard di $Y$ $$ \\sigma_Y = \\sqrt{E[Y^2] - (E[Y])^2} $$"
   ]
  },
  {
   "cell_type": "code",
   "execution_count": 54,
   "metadata": {},
   "outputs": [],
   "source": [
    "def plot_correlation_matrix(matrix, title):\n",
    "\n",
    "    z_text = np.around(matrix.values.tolist(), decimals=2)\n",
    "\n",
    "    figure = ff.create_annotated_heatmap(z=matrix.values, \n",
    "                                         x=matrix.columns.tolist(), \n",
    "                                         y=matrix.index.tolist(),\n",
    "                                         annotation_text=z_text,\n",
    "                                         colorscale='Blues',\n",
    "                                         showscale=True)\n",
    "\n",
    "    figure.layout.title = title\n",
    "    figure.layout.autosize = False\n",
    "    figure.layout.width = 850\n",
    "    figure.layout.height = 850\n",
    "    figure.layout.margin = go.layout.Margin(l=140, r=100, b=200, t=80)\n",
    "    figure.layout.xaxis.update(side='bottom')\n",
    "    figure.layout.yaxis.update(side='left')\n",
    "\n",
    "    for i in range(len(figure.layout.annotations)):\n",
    "        figure.layout.annotations[i].font.size = 8\n",
    "                                    \n",
    "    return py.iplot(figure, filename=title)\n",
    "\n",
    "def plot_correlation_row(matrix, title):\n",
    "    \n",
    "    matrix = pd.Series.to_frame(matrix.loc['class']).transpose()\n",
    "    z_text = np.around(matrix.values.tolist(), decimals=2)\n",
    "\n",
    "    figure = ff.create_annotated_heatmap(z=matrix.values, \n",
    "                                         x=matrix.columns.tolist(), \n",
    "                                         y=matrix.index.tolist(),\n",
    "                                         annotation_text=z_text,\n",
    "                                         colorscale='Blues',\n",
    "                                         showscale=False)\n",
    "\n",
    "    figure.layout.title = title\n",
    "    figure.layout.autosize = False\n",
    "    figure.layout.width = 850\n",
    "    figure.layout.height = 220\n",
    "    figure.layout.xaxis.update(side='bottom')\n",
    "    figure.layout.yaxis.update(side='left')\n",
    "\n",
    "    for i in range(len(figure.layout.annotations)):\n",
    "        figure.layout.annotations[i].font.size = 8\n",
    "\n",
    "\n",
    "    return py.iplot(figure, filename=title)\n"
   ]
  },
  {
   "cell_type": "code",
   "execution_count": 55,
   "metadata": {},
   "outputs": [
    {
     "data": {
      "text/html": [
       "<iframe id=\"igraph\" scrolling=\"no\" style=\"border:none;\" seamless=\"seamless\" src=\"https://plot.ly/~albertobenincasa/6.embed\" height=\"850px\" width=\"850px\"></iframe>"
      ],
      "text/plain": [
       "<plotly.tools.PlotlyDisplay object>"
      ]
     },
     "execution_count": 55,
     "metadata": {},
     "output_type": "execute_result"
    }
   ],
   "source": [
    "corr_dataset = dataset.corr(method='pearson')\n",
    "plot_correlation_matrix(corr_dataset, 'Matrice di correlazione')"
   ]
  },
  {
   "cell_type": "code",
   "execution_count": 56,
   "metadata": {},
   "outputs": [],
   "source": [
    "def conditional_entropy(x, y):\n",
    "    # entropy of x given y\n",
    "    y_counter = Counter(y)\n",
    "    xy_counter = Counter(list(zip(x,y)))\n",
    "    total_occurrences = sum(y_counter.values())\n",
    "    entropy = 0\n",
    "    for xy in xy_counter.keys():\n",
    "        p_xy = xy_counter[xy] / total_occurrences\n",
    "        p_y = y_counter[xy[1]] / total_occurrences\n",
    "        entropy += p_xy * math.log(p_y/p_xy)\n",
    "    return entropy\n",
    "\n",
    "def theil_u(x, y):\n",
    "    s_xy = conditional_entropy(x, y)\n",
    "    x_counter = Counter(x)\n",
    "    total_occurrences = sum(x_counter.values())\n",
    "    p_x = list(map(lambda n: n/total_occurrences, x_counter.values()))\n",
    "    s_x = ss.entropy(p_x)\n",
    "    if s_x == 0:\n",
    "        return 1\n",
    "    else:\n",
    "        return (s_x - s_xy) / s_x\n",
    "\n",
    "def create_theil_matrix(data):\n",
    "\n",
    "    columns = data.columns\n",
    "    matrix = []\n",
    "    for col in columns:\n",
    "        row = []\n",
    "        for j in range(0, len(columns)):\n",
    "            u = np.around(theil_u(data[col].tolist(), data[columns[j]].tolist()), decimals=4)\n",
    "            row.append(u)\n",
    "        matrix.append(row)\n",
    "    \n",
    "    matrix = np.array(matrix)\n",
    "\n",
    "    matrix = pd.DataFrame(data=matrix,\n",
    "                 columns=columns,\n",
    "                 index=columns)\n",
    "    return matrix\n"
   ]
  },
  {
   "cell_type": "code",
   "execution_count": 57,
   "metadata": {},
   "outputs": [
    {
     "data": {
      "text/html": [
       "<iframe id=\"igraph\" scrolling=\"no\" style=\"border:none;\" seamless=\"seamless\" src=\"https://plot.ly/~albertobenincasa/8.embed\" height=\"850px\" width=\"850px\"></iframe>"
      ],
      "text/plain": [
       "<plotly.tools.PlotlyDisplay object>"
      ]
     },
     "execution_count": 57,
     "metadata": {},
     "output_type": "execute_result"
    }
   ],
   "source": [
    "corr_dataset = create_theil_matrix(dataset)\n",
    "plot_correlation_matrix(corr_dataset, \"Theil_u correlation matrix\")"
   ]
  },
  {
   "cell_type": "code",
   "execution_count": 59,
   "metadata": {},
   "outputs": [
    {
     "data": {
      "text/html": [
       "<iframe id=\"igraph\" scrolling=\"no\" style=\"border:none;\" seamless=\"seamless\" src=\"https://plot.ly/~albertobenincasa/10.embed\" height=\"525px\" width=\"100%\"></iframe>"
      ],
      "text/plain": [
       "<plotly.tools.PlotlyDisplay object>"
      ]
     },
     "execution_count": 59,
     "metadata": {},
     "output_type": "execute_result"
    }
   ],
   "source": [
    "feature_histogram(dataset, 'chol', 'distribuzione chol')"
   ]
  },
  {
   "cell_type": "code",
   "execution_count": 73,
   "metadata": {
    "scrolled": false
   },
   "outputs": [
    {
     "data": {
      "text/html": [
       "<iframe id=\"igraph\" scrolling=\"no\" style=\"border:none;\" seamless=\"seamless\" src=\"https://plot.ly/~albertobenincasa/12.embed\" height=\"600px\" width=\"800px\"></iframe>"
      ],
      "text/plain": [
       "<plotly.tools.PlotlyDisplay object>"
      ]
     },
     "execution_count": 73,
     "metadata": {},
     "output_type": "execute_result"
    }
   ],
   "source": [
    "names = dataset.columns\n",
    "inverse_correlation = 1 - corr_dataset # This is the 'dissimilarity' method\n",
    "\n",
    "fig = ff.create_dendrogram(inverse_correlation, \n",
    "                           labels=names, \n",
    "                           colorscale=COLOR_PALETTE, \n",
    "                           linkagefun=lambda x: hc.linkage(x, 'average'))\n",
    "\n",
    "fig['layout'].update(dict(\n",
    "    title=\"Dendrogram of correlation among features\",\n",
    "    width=800, \n",
    "    height=600,\n",
    "    xaxis=dict(\n",
    "        title='Features',\n",
    "    ),\n",
    "    yaxis=dict(\n",
    "        title='Distance',\n",
    "    ),\n",
    "))\n",
    "iplot(fig, filename='dendrogram_corr_clustering')"
   ]
  },
  {
   "cell_type": "markdown",
   "metadata": {},
   "source": [
    "### DATI NON CATEGORICI\n",
    "\n",
    "Partiamo con l'analizzare i dati di tipo non categoriche."
   ]
  },
  {
   "cell_type": "code",
   "execution_count": 5,
   "metadata": {},
   "outputs": [
    {
     "name": "stderr",
     "output_type": "stream",
     "text": [
      "C:\\Users\\Alberto\\Anaconda3\\lib\\site-packages\\scipy\\stats\\stats.py:1713: FutureWarning:\n",
      "\n",
      "Using a non-tuple sequence for multidimensional indexing is deprecated; use `arr[tuple(seq)]` instead of `arr[seq]`. In the future this will be interpreted as an array index, `arr[np.array(seq)]`, which will result either in an error or a different result.\n",
      "\n"
     ]
    },
    {
     "data": {
      "image/png": "[encoded data removed]",
      "text/plain": [
       "<Figure size 864x864 with 5 Axes>"
      ]
     },
     "metadata": {
      "needs_background": "light"
     },
     "output_type": "display_data"
    }
   ],
   "source": [
    "f,ax=plt.subplots(3,2,figsize=(12,12))\n",
    "f.delaxes(ax[2,1])\n",
    "\n",
    "numerical_features = ['age','thalach','chol','trestbps','oldpeak']\n",
    "\n",
    "for i,feature in enumerate(numerical_features):\n",
    "    sns.distplot(dataset[feature], ax=ax[i//2,i%2], kde_kws={\"color\":\"white\"}, hist=False )\n",
    "\n",
    "    # Get the two lines from the ax[i//2,i%2]es to generate shading\n",
    "    l1 = ax[i//2,i%2].lines[0]\n",
    "\n",
    "    # Get the xy data from the lines so that we can shade\n",
    "    x1 = l1.get_xydata()[:,0]\n",
    "    y1 = l1.get_xydata()[:,1]\n",
    "    ax[i//2,i%2].fill_between(x1,y1, color=\"#4791C5\", alpha=0.8)\n",
    "\n",
    "    #grid\n",
    "    #ax[i//2,i%2].grid(b=True, which='major', color='grey', linewidth=0.3)\n",
    "    \n",
    "    ax[i//2,i%2].set_title('Distribution of {}'.format(feature), fontsize=18)\n",
    "    ax[i//2,i%2].set_ylabel('count', fontsize=12)\n",
    "    ax[i//2,i%2].set_xlabel('Modality', fontsize=12)\n",
    "\n",
    "    #sns.despine(ax[i//2,i%2]=ax[i//2,i%2], left=True)\n",
    "    ax[i//2,i%2].set_ylabel(\"frequency\", fontsize=12)\n",
    "    ax[i//2,i%2].set_xlabel(str(feature), fontsize=12)\n",
    "    \n",
    "plt.tight_layout()\n",
    "plt.show()\n"
   ]
  },
  {
   "cell_type": "code",
   "execution_count": 33,
   "metadata": {},
   "outputs": [],
   "source": [
    "def create_distplot(type, data, col, visible=False):\n",
    "    return go.Histogram(\n",
    "        x = data[col],\n",
    "        name = type, \n",
    "        visible = visible,\n",
    "        opacity = PLOTLY_OPACITY,\n",
    "    )"
   ]
  },
  {
   "cell_type": "code",
   "execution_count": 2,
   "metadata": {},
   "outputs": [],
   "source": [
    "#numerical_features = ['age','thalach','chol','trestbps','oldpeak']\n",
    "##hist_features = [col for col in dataset.columns if col in numerical_features]\n",
    "#\n",
    "#steps = []\n",
    "#active_index = 0\n",
    "#\n",
    "#number_of_features = len(numerical_features)\n",
    "#\n",
    "#data = [(create_distplot(numerical_features[i], dataset[numerical_features[i]], col, False) if i!=active_index\n",
    "#         else create_distplot(numerical_features[i], dataset[numerical_features[i]], col, True))\n",
    "#        for i, col in zip(range(number_of_features), enumerate(numerical_features))]\n",
    "#\n",
    "#for i in range(number_of_features):\n",
    "#    step = dict(\n",
    "#        method = 'restyle',\n",
    "#        args = ['visible', [False] * number_of_features],\n",
    "#        label = numerical_features[i],\n",
    "#    )\n",
    "#    step['args'][1][i] = True\n",
    "#    steps.append(step)\n",
    "#    \n",
    "#sliders = [dict(\n",
    "#    active = active_index,\n",
    "#    currentvalue = dict(\n",
    "#        prefix = 'Feature: ',\n",
    "#        xanchor = 'center',\n",
    "#    ),\n",
    "#    pad = {\"t\": 50},\n",
    "#    steps = steps,\n",
    "#    len = 1,\n",
    "#)]\n",
    "#    \n",
    "#layout = dict(\n",
    "#    sliders = sliders,\n",
    "#    autosize = True,\n",
    "#    yaxis = dict(\n",
    "#        title = 'Frequency',\n",
    "#        automargin = True,\n",
    "#    ),\n",
    "#    barmode = 'group',\n",
    "#    bargap = 0.15,\n",
    "#    bargroupgap = 0.1\n",
    "#)\n",
    "#    \n",
    "#fig = dict(data=data, layout=layout)\n",
    "#py.iplot(fig, filename='numerical_slider')"
   ]
  },
  {
   "cell_type": "markdown",
   "metadata": {},
   "source": [
    "### DATI CATEGORICI"
   ]
  },
  {
   "cell_type": "code",
   "execution_count": 17,
   "metadata": {},
   "outputs": [
    {
     "data": {
      "image/png": "[encoded data removed]",
      "text/plain": [
       "<Figure size 864x864 with 8 Axes>"
      ]
     },
     "metadata": {
      "needs_background": "light"
     },
     "output_type": "display_data"
    }
   ],
   "source": [
    "f,ax=plt.subplots(4,2,figsize=(12,12))\n",
    "\n",
    "for i,feature in enumerate(['sex','cp','fbs','restecg','exang','slope','ca','thal']):\n",
    "    sns.countplot(x=feature,data=dataset,ax=ax[i//2,i%2], palette = 'Blues_d', alpha=0.8, edgecolor=('white'), linewidth=2)\n",
    "    ax[i//2,i%2].set_title('Count of {}'.format(feature), fontsize=18)\n",
    "    ax[i//2,i%2].set_ylabel('count', fontsize=12)\n",
    "    ax[i//2,i%2].set_xlabel('modality', fontsize=12)\n",
    "\n",
    "\n",
    "plt.tight_layout()\n",
    "plt.show()"
   ]
  },
  {
   "cell_type": "markdown",
   "metadata": {},
   "source": [
    "### MACHINE LEARNING"
   ]
  },
  {
   "cell_type": "code",
   "execution_count": null,
   "metadata": {},
   "outputs": [],
   "source": [
    "X = dataset.remove['target']\n",
    "y = dataset['target']\n",
    "X_train, X_test, y_train, y_test = train_test_split(X,y, test_size=0.2, random_state=5, stratify=y)\n",
    "\n"
   ]
  }
 ],
 "metadata": {
  "kernelspec": {
   "display_name": "Python 3",
   "language": "python",
   "name": "python3"
  },
  "language_info": {
   "codemirror_mode": {
    "name": "ipython",
    "version": 3
   },
   "file_extension": ".py",
   "mimetype": "text/x-python",
   "name": "python",
   "nbconvert_exporter": "python",
   "pygments_lexer": "ipython3",
   "version": "3.7.0"
  }
 },
 "nbformat": 4,
 "nbformat_minor": 2
}
